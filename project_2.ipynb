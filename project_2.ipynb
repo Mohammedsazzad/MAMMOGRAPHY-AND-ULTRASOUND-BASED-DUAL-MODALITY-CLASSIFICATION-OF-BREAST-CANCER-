{
  "nbformat": 4,
  "nbformat_minor": 0,
  "metadata": {
    "colab": {
      "provenance": []
    },
    "kernelspec": {
      "name": "python3",
      "display_name": "Python 3"
    },
    "language_info": {
      "name": "python"
    }
  },
  "cells": [
    {
      "cell_type": "code",
      "execution_count": 22,
      "metadata": {
        "id": "-9bKgDxudAE5"
      },
      "outputs": [],
      "source": [
        "import os\n",
        "import cv2\n",
        "import pandas as pd\n",
        "import numpy as np\n",
        "from skimage.filters import gaussian\n",
        "from skimage.morphology import binary_closing, disk\n",
        "\n",
        "# Read dataset images and corresponding labels from CSV file\n",
        "dataset = pd.read_csv(\"/content/drive/MyDrive/lebels/BrEaST-Lesions-USG-clinical-data-Dec-15-2023.csv\")  # Assuming \"dataset_labels.csv\" contains image filenames and labels\n",
        "image_filenames = dataset[\"Image_filename\"].tolist()  # Assuming \"image_path\" is the correct column name\n",
        "labels = dataset[\"Classification\"].tolist()\n",
        "\n",
        "# Specify the directory where your images are stored\n",
        "dataset_dir = \"/content/drive/MyDrive/cancerdata\"  # Replace \"path/to/dataset\" with the actual path to your dataset directory\n"
      ]
    },
    {
      "cell_type": "code",
      "source": [
        "import os\n",
        "import numpy as np\n",
        "import pandas as pd\n",
        "from keras.preprocessing import image\n",
        "from keras.applications.vgg16 import VGG16, preprocess_input\n",
        "from keras.models import Model\n",
        "\n",
        "# Define the path to your dataset directory and CSV file\n",
        "dataset_dir = \"/content/drive/MyDrive/cancerdata\"  # Update with your dataset directory\n",
        "csv_file = \"/content/drive/MyDrive/lebels/BrEaST-Lesions-USG-clinical-data-Dec-15-2023.csv\"  # Update with the path to your CSV file\n",
        "\n",
        "# Load labels from the CSV file into a DataFrame\n",
        "labels_df = pd.read_csv(csv_file)\n",
        "\n",
        "# Load pre-trained VGG16 model (excluding the top classification layer)\n",
        "vgg16 = VGG16(weights='imagenet', include_top=False, input_shape=(224, 224, 3))\n",
        "\n",
        "# Create a new model by removing the last layer from the VGG16 model\n",
        "feature_extractor = Model(inputs=vgg16.input, outputs=vgg16.get_layer('block5_pool').output)\n",
        "\n",
        "# Function to extract features from images\n",
        "def extract_features(image_path, model, target_size=(224, 224)):\n",
        "    img = image.load_img(image_path, target_size=target_size)\n",
        "    x = image.img_to_array(img)\n",
        "    x = np.expand_dims(x, axis=0)\n",
        "    x = preprocess_input(x)\n",
        "    features = model.predict(x)\n",
        "    return features.flatten()\n",
        "\n",
        "# List to store extracted features and corresponding labels\n",
        "X_features = []\n",
        "y_labels = []\n",
        "\n",
        "# Iterate through the dataset directory and extract features\n",
        "for index, row in labels_df.iterrows():\n",
        "    filename = row['Image_filename']\n",
        "    label = row['Classification']\n",
        "    image_path = os.path.join(dataset_dir, filename)\n",
        "    features = extract_features(image_path, feature_extractor)\n",
        "    X_features.append(features)\n",
        "    y_labels.append(label)\n",
        "\n",
        "# Convert lists to NumPy arrays\n",
        "X_features = np.array(X_features)\n",
        "y_labels = np.array(y_labels)\n",
        "\n",
        "# Display the shapes of the feature matrix and labels\n",
        "print(\"Shape of X_features:\", X_features.shape)\n",
        "print(\"Shape of y_labels:\", y_labels.shape)\n"
      ],
      "metadata": {
        "colab": {
          "base_uri": "https://localhost:8080/"
        },
        "id": "sGTHMNfjdiE1",
        "outputId": "2b7ee2ca-6adb-43d5-a81b-057bc8931673"
      },
      "execution_count": 27,
      "outputs": [
        {
          "output_type": "stream",
          "name": "stdout",
          "text": [
            "1/1 [==============================] - 0s 476ms/step\n",
            "1/1 [==============================] - 0s 381ms/step\n",
            "1/1 [==============================] - 0s 369ms/step\n",
            "1/1 [==============================] - 0s 365ms/step\n",
            "1/1 [==============================] - 0s 371ms/step\n",
            "1/1 [==============================] - 0s 372ms/step\n",
            "1/1 [==============================] - 0s 377ms/step\n",
            "1/1 [==============================] - 0s 367ms/step\n",
            "1/1 [==============================] - 0s 367ms/step\n",
            "1/1 [==============================] - 0s 375ms/step\n",
            "1/1 [==============================] - 0s 370ms/step\n",
            "1/1 [==============================] - 0s 404ms/step\n",
            "1/1 [==============================] - 1s 518ms/step\n",
            "1/1 [==============================] - 1s 512ms/step\n",
            "1/1 [==============================] - 1s 506ms/step\n",
            "1/1 [==============================] - 0s 436ms/step\n",
            "1/1 [==============================] - 0s 369ms/step\n",
            "1/1 [==============================] - 0s 375ms/step\n",
            "1/1 [==============================] - 0s 363ms/step\n",
            "1/1 [==============================] - 0s 367ms/step\n",
            "1/1 [==============================] - 0s 373ms/step\n",
            "1/1 [==============================] - 0s 368ms/step\n",
            "1/1 [==============================] - 0s 373ms/step\n",
            "1/1 [==============================] - 0s 365ms/step\n",
            "1/1 [==============================] - 0s 374ms/step\n",
            "1/1 [==============================] - 0s 374ms/step\n",
            "1/1 [==============================] - 0s 368ms/step\n",
            "1/1 [==============================] - 0s 374ms/step\n",
            "1/1 [==============================] - 0s 377ms/step\n",
            "1/1 [==============================] - 0s 373ms/step\n",
            "1/1 [==============================] - 0s 371ms/step\n",
            "1/1 [==============================] - 0s 369ms/step\n",
            "1/1 [==============================] - 0s 368ms/step\n",
            "1/1 [==============================] - 0s 370ms/step\n",
            "1/1 [==============================] - 0s 370ms/step\n",
            "1/1 [==============================] - 0s 371ms/step\n",
            "1/1 [==============================] - 0s 374ms/step\n",
            "1/1 [==============================] - 0s 363ms/step\n",
            "1/1 [==============================] - 0s 371ms/step\n",
            "1/1 [==============================] - 1s 524ms/step\n",
            "1/1 [==============================] - 1s 513ms/step\n",
            "1/1 [==============================] - 1s 500ms/step\n",
            "1/1 [==============================] - 0s 470ms/step\n",
            "1/1 [==============================] - 0s 369ms/step\n",
            "1/1 [==============================] - 0s 378ms/step\n",
            "1/1 [==============================] - 0s 379ms/step\n",
            "1/1 [==============================] - 0s 367ms/step\n",
            "1/1 [==============================] - 0s 378ms/step\n",
            "1/1 [==============================] - 0s 372ms/step\n",
            "1/1 [==============================] - 0s 374ms/step\n",
            "1/1 [==============================] - 0s 435ms/step\n",
            "1/1 [==============================] - 0s 372ms/step\n",
            "1/1 [==============================] - 0s 370ms/step\n",
            "1/1 [==============================] - 0s 368ms/step\n",
            "1/1 [==============================] - 0s 373ms/step\n",
            "1/1 [==============================] - 0s 367ms/step\n",
            "1/1 [==============================] - 0s 367ms/step\n",
            "1/1 [==============================] - 0s 375ms/step\n",
            "1/1 [==============================] - 0s 362ms/step\n",
            "1/1 [==============================] - 0s 378ms/step\n",
            "1/1 [==============================] - 0s 399ms/step\n",
            "1/1 [==============================] - 0s 370ms/step\n",
            "1/1 [==============================] - 1s 582ms/step\n",
            "1/1 [==============================] - 0s 373ms/step\n",
            "1/1 [==============================] - 1s 541ms/step\n",
            "1/1 [==============================] - 1s 516ms/step\n",
            "1/1 [==============================] - 1s 516ms/step\n",
            "1/1 [==============================] - 0s 491ms/step\n",
            "1/1 [==============================] - 0s 422ms/step\n",
            "1/1 [==============================] - 0s 365ms/step\n",
            "1/1 [==============================] - 0s 362ms/step\n",
            "1/1 [==============================] - 0s 380ms/step\n",
            "1/1 [==============================] - 0s 367ms/step\n",
            "1/1 [==============================] - 0s 372ms/step\n",
            "1/1 [==============================] - 0s 370ms/step\n",
            "1/1 [==============================] - 0s 364ms/step\n",
            "1/1 [==============================] - 0s 371ms/step\n",
            "1/1 [==============================] - 0s 368ms/step\n",
            "1/1 [==============================] - 0s 371ms/step\n",
            "1/1 [==============================] - 0s 363ms/step\n",
            "1/1 [==============================] - 0s 373ms/step\n",
            "1/1 [==============================] - 0s 370ms/step\n",
            "1/1 [==============================] - 0s 364ms/step\n",
            "1/1 [==============================] - 0s 375ms/step\n",
            "1/1 [==============================] - 0s 366ms/step\n",
            "1/1 [==============================] - 0s 373ms/step\n",
            "1/1 [==============================] - 0s 366ms/step\n",
            "1/1 [==============================] - 0s 370ms/step\n",
            "1/1 [==============================] - 0s 373ms/step\n",
            "1/1 [==============================] - 0s 373ms/step\n",
            "1/1 [==============================] - 0s 378ms/step\n",
            "1/1 [==============================] - 0s 383ms/step\n",
            "1/1 [==============================] - 1s 521ms/step\n",
            "1/1 [==============================] - 1s 511ms/step\n",
            "1/1 [==============================] - 1s 505ms/step\n",
            "1/1 [==============================] - 0s 432ms/step\n",
            "1/1 [==============================] - 0s 372ms/step\n",
            "1/1 [==============================] - 0s 368ms/step\n",
            "1/1 [==============================] - 0s 368ms/step\n",
            "1/1 [==============================] - 0s 369ms/step\n",
            "1/1 [==============================] - 0s 372ms/step\n",
            "1/1 [==============================] - 0s 370ms/step\n",
            "1/1 [==============================] - 0s 366ms/step\n",
            "1/1 [==============================] - 0s 375ms/step\n",
            "1/1 [==============================] - 0s 360ms/step\n",
            "1/1 [==============================] - 0s 365ms/step\n",
            "1/1 [==============================] - 0s 370ms/step\n",
            "1/1 [==============================] - 0s 372ms/step\n",
            "1/1 [==============================] - 0s 371ms/step\n",
            "1/1 [==============================] - 0s 365ms/step\n",
            "1/1 [==============================] - 0s 363ms/step\n",
            "1/1 [==============================] - 0s 358ms/step\n",
            "1/1 [==============================] - 0s 359ms/step\n",
            "1/1 [==============================] - 0s 370ms/step\n",
            "1/1 [==============================] - 0s 370ms/step\n",
            "1/1 [==============================] - 0s 374ms/step\n",
            "1/1 [==============================] - 0s 372ms/step\n",
            "1/1 [==============================] - 0s 362ms/step\n",
            "1/1 [==============================] - 0s 371ms/step\n",
            "1/1 [==============================] - 1s 508ms/step\n",
            "1/1 [==============================] - 0s 493ms/step\n",
            "1/1 [==============================] - 1s 501ms/step\n",
            "1/1 [==============================] - 1s 520ms/step\n",
            "1/1 [==============================] - 0s 364ms/step\n",
            "1/1 [==============================] - 0s 383ms/step\n",
            "1/1 [==============================] - 0s 374ms/step\n",
            "1/1 [==============================] - 0s 372ms/step\n",
            "1/1 [==============================] - 0s 368ms/step\n",
            "1/1 [==============================] - 0s 360ms/step\n",
            "1/1 [==============================] - 0s 366ms/step\n",
            "1/1 [==============================] - 0s 363ms/step\n",
            "1/1 [==============================] - 0s 363ms/step\n",
            "1/1 [==============================] - 0s 361ms/step\n",
            "1/1 [==============================] - 0s 374ms/step\n",
            "1/1 [==============================] - 0s 366ms/step\n",
            "1/1 [==============================] - 0s 363ms/step\n",
            "1/1 [==============================] - 0s 375ms/step\n",
            "1/1 [==============================] - 0s 364ms/step\n",
            "1/1 [==============================] - 0s 371ms/step\n",
            "1/1 [==============================] - 0s 365ms/step\n",
            "1/1 [==============================] - 0s 366ms/step\n",
            "1/1 [==============================] - 0s 370ms/step\n",
            "1/1 [==============================] - 0s 366ms/step\n",
            "1/1 [==============================] - 0s 370ms/step\n",
            "1/1 [==============================] - 0s 363ms/step\n",
            "1/1 [==============================] - 0s 379ms/step\n",
            "1/1 [==============================] - 0s 424ms/step\n",
            "1/1 [==============================] - 1s 505ms/step\n",
            "1/1 [==============================] - 1s 519ms/step\n",
            "1/1 [==============================] - 1s 505ms/step\n",
            "1/1 [==============================] - 1s 612ms/step\n",
            "1/1 [==============================] - 0s 435ms/step\n",
            "1/1 [==============================] - 0s 369ms/step\n",
            "1/1 [==============================] - 0s 374ms/step\n",
            "1/1 [==============================] - 0s 363ms/step\n",
            "1/1 [==============================] - 0s 378ms/step\n",
            "1/1 [==============================] - 0s 366ms/step\n",
            "1/1 [==============================] - 0s 363ms/step\n",
            "1/1 [==============================] - 0s 410ms/step\n",
            "1/1 [==============================] - 0s 366ms/step\n",
            "1/1 [==============================] - 0s 370ms/step\n",
            "1/1 [==============================] - 0s 364ms/step\n",
            "1/1 [==============================] - 0s 369ms/step\n",
            "1/1 [==============================] - 0s 362ms/step\n",
            "1/1 [==============================] - 0s 363ms/step\n",
            "1/1 [==============================] - 0s 372ms/step\n",
            "1/1 [==============================] - 0s 368ms/step\n",
            "1/1 [==============================] - 0s 379ms/step\n",
            "1/1 [==============================] - 0s 365ms/step\n",
            "1/1 [==============================] - 0s 363ms/step\n",
            "1/1 [==============================] - 0s 367ms/step\n",
            "1/1 [==============================] - 0s 363ms/step\n",
            "1/1 [==============================] - 0s 408ms/step\n",
            "1/1 [==============================] - 1s 514ms/step\n",
            "1/1 [==============================] - 1s 518ms/step\n",
            "1/1 [==============================] - 1s 501ms/step\n",
            "1/1 [==============================] - 0s 440ms/step\n",
            "1/1 [==============================] - 0s 364ms/step\n",
            "1/1 [==============================] - 0s 376ms/step\n",
            "1/1 [==============================] - 0s 368ms/step\n",
            "1/1 [==============================] - 0s 378ms/step\n",
            "1/1 [==============================] - 0s 364ms/step\n",
            "1/1 [==============================] - 0s 369ms/step\n",
            "1/1 [==============================] - 0s 370ms/step\n",
            "1/1 [==============================] - 0s 421ms/step\n",
            "1/1 [==============================] - 0s 369ms/step\n",
            "1/1 [==============================] - 0s 369ms/step\n",
            "1/1 [==============================] - 0s 369ms/step\n",
            "1/1 [==============================] - 0s 369ms/step\n",
            "1/1 [==============================] - 0s 372ms/step\n",
            "1/1 [==============================] - 0s 373ms/step\n",
            "1/1 [==============================] - 0s 372ms/step\n",
            "1/1 [==============================] - 0s 366ms/step\n",
            "1/1 [==============================] - 0s 361ms/step\n",
            "1/1 [==============================] - 0s 367ms/step\n",
            "1/1 [==============================] - 0s 379ms/step\n",
            "1/1 [==============================] - 0s 364ms/step\n",
            "1/1 [==============================] - 0s 364ms/step\n",
            "1/1 [==============================] - 0s 364ms/step\n",
            "1/1 [==============================] - 0s 391ms/step\n",
            "1/1 [==============================] - 1s 503ms/step\n",
            "1/1 [==============================] - 1s 510ms/step\n",
            "1/1 [==============================] - 1s 506ms/step\n",
            "1/1 [==============================] - 0s 444ms/step\n",
            "1/1 [==============================] - 0s 368ms/step\n",
            "1/1 [==============================] - 0s 365ms/step\n",
            "1/1 [==============================] - 0s 366ms/step\n",
            "1/1 [==============================] - 0s 368ms/step\n",
            "1/1 [==============================] - 0s 370ms/step\n",
            "1/1 [==============================] - 0s 357ms/step\n",
            "1/1 [==============================] - 0s 373ms/step\n",
            "1/1 [==============================] - 0s 377ms/step\n",
            "1/1 [==============================] - 0s 366ms/step\n",
            "1/1 [==============================] - 0s 372ms/step\n",
            "1/1 [==============================] - 0s 362ms/step\n",
            "1/1 [==============================] - 0s 375ms/step\n",
            "1/1 [==============================] - 0s 366ms/step\n",
            "1/1 [==============================] - 0s 362ms/step\n",
            "1/1 [==============================] - 0s 376ms/step\n",
            "1/1 [==============================] - 0s 369ms/step\n",
            "1/1 [==============================] - 0s 373ms/step\n",
            "1/1 [==============================] - 0s 363ms/step\n",
            "1/1 [==============================] - 0s 375ms/step\n",
            "1/1 [==============================] - 0s 369ms/step\n",
            "1/1 [==============================] - 0s 363ms/step\n",
            "1/1 [==============================] - 0s 377ms/step\n",
            "1/1 [==============================] - 0s 368ms/step\n",
            "1/1 [==============================] - 0s 495ms/step\n",
            "1/1 [==============================] - 0s 491ms/step\n",
            "1/1 [==============================] - 1s 511ms/step\n",
            "1/1 [==============================] - 0s 492ms/step\n",
            "1/1 [==============================] - 0s 380ms/step\n",
            "1/1 [==============================] - 0s 375ms/step\n",
            "1/1 [==============================] - 0s 374ms/step\n",
            "1/1 [==============================] - 0s 369ms/step\n",
            "1/1 [==============================] - 0s 361ms/step\n",
            "1/1 [==============================] - 0s 366ms/step\n",
            "1/1 [==============================] - 0s 360ms/step\n",
            "1/1 [==============================] - 0s 373ms/step\n",
            "1/1 [==============================] - 0s 363ms/step\n",
            "1/1 [==============================] - 0s 374ms/step\n",
            "1/1 [==============================] - 0s 368ms/step\n",
            "1/1 [==============================] - 0s 365ms/step\n",
            "1/1 [==============================] - 0s 371ms/step\n",
            "1/1 [==============================] - 0s 365ms/step\n",
            "1/1 [==============================] - 0s 372ms/step\n",
            "1/1 [==============================] - 0s 366ms/step\n",
            "1/1 [==============================] - 0s 369ms/step\n",
            "1/1 [==============================] - 0s 369ms/step\n",
            "1/1 [==============================] - 0s 369ms/step\n",
            "1/1 [==============================] - 0s 372ms/step\n",
            "1/1 [==============================] - 0s 366ms/step\n",
            "1/1 [==============================] - 0s 372ms/step\n",
            "1/1 [==============================] - 0s 372ms/step\n",
            "1/1 [==============================] - 0s 438ms/step\n",
            "1/1 [==============================] - 1s 505ms/step\n",
            "Shape of X_features: (256, 25088)\n",
            "Shape of y_labels: (256,)\n"
          ]
        }
      ]
    },
    {
      "cell_type": "code",
      "source": [
        "y_labels"
      ],
      "metadata": {
        "colab": {
          "base_uri": "https://localhost:8080/"
        },
        "id": "FR-jtWqVq1PT",
        "outputId": "9e6e11bd-0eb2-4808-ce3c-b262789eed42"
      },
      "execution_count": 31,
      "outputs": [
        {
          "output_type": "execute_result",
          "data": {
            "text/plain": [
              "array(['benign', 'benign', 'benign', 'benign', 'malignant', 'benign',\n",
              "       'malignant', 'malignant', 'benign', 'malignant', 'malignant',\n",
              "       'malignant', 'malignant', 'benign', 'benign', 'benign', 'benign',\n",
              "       'benign', 'benign', 'benign', 'benign', 'benign', 'benign',\n",
              "       'benign', 'benign', 'malignant', 'malignant', 'benign', 'benign',\n",
              "       'benign', 'benign', 'malignant', 'benign', 'malignant',\n",
              "       'malignant', 'benign', 'benign', 'benign', 'benign', 'benign',\n",
              "       'benign', 'benign', 'benign', 'benign', 'normal', 'malignant',\n",
              "       'benign', 'benign', 'benign', 'malignant', 'benign', 'benign',\n",
              "       'malignant', 'benign', 'malignant', 'benign', 'benign',\n",
              "       'malignant', 'benign', 'malignant', 'normal', 'benign',\n",
              "       'malignant', 'benign', 'benign', 'malignant', 'malignant',\n",
              "       'benign', 'benign', 'benign', 'benign', 'malignant', 'benign',\n",
              "       'benign', 'malignant', 'malignant', 'benign', 'benign',\n",
              "       'malignant', 'benign', 'benign', 'malignant', 'benign', 'benign',\n",
              "       'benign', 'malignant', 'malignant', 'malignant', 'malignant',\n",
              "       'malignant', 'benign', 'benign', 'benign', 'malignant', 'benign',\n",
              "       'benign', 'benign', 'benign', 'malignant', 'benign', 'malignant',\n",
              "       'malignant', 'malignant', 'benign', 'malignant', 'malignant',\n",
              "       'malignant', 'benign', 'malignant', 'benign', 'malignant',\n",
              "       'malignant', 'malignant', 'malignant', 'benign', 'benign',\n",
              "       'malignant', 'benign', 'benign', 'benign', 'malignant', 'benign',\n",
              "       'benign', 'benign', 'malignant', 'benign', 'malignant',\n",
              "       'malignant', 'benign', 'malignant', 'benign', 'malignant',\n",
              "       'malignant', 'benign', 'benign', 'benign', 'benign', 'benign',\n",
              "       'benign', 'benign', 'benign', 'benign', 'benign', 'malignant',\n",
              "       'malignant', 'benign', 'malignant', 'malignant', 'malignant',\n",
              "       'malignant', 'benign', 'benign', 'malignant', 'malignant',\n",
              "       'benign', 'benign', 'benign', 'malignant', 'benign', 'malignant',\n",
              "       'benign', 'benign', 'benign', 'malignant', 'benign', 'benign',\n",
              "       'benign', 'benign', 'benign', 'malignant', 'benign', 'malignant',\n",
              "       'malignant', 'malignant', 'benign', 'malignant', 'benign',\n",
              "       'benign', 'benign', 'benign', 'benign', 'benign', 'benign',\n",
              "       'benign', 'benign', 'benign', 'benign', 'benign', 'benign',\n",
              "       'malignant', 'benign', 'benign', 'benign', 'benign', 'malignant',\n",
              "       'benign', 'benign', 'malignant', 'malignant', 'benign', 'benign',\n",
              "       'benign', 'benign', 'benign', 'malignant', 'malignant', 'benign',\n",
              "       'benign', 'normal', 'benign', 'malignant', 'malignant', 'normal',\n",
              "       'benign', 'benign', 'benign', 'benign', 'malignant', 'malignant',\n",
              "       'benign', 'malignant', 'benign', 'benign', 'benign', 'malignant',\n",
              "       'malignant', 'malignant', 'malignant', 'benign', 'malignant',\n",
              "       'benign', 'benign', 'malignant', 'malignant', 'benign', 'benign',\n",
              "       'benign', 'malignant', 'malignant', 'benign', 'benign', 'benign',\n",
              "       'malignant', 'malignant', 'malignant', 'benign', 'malignant',\n",
              "       'malignant', 'malignant', 'malignant', 'malignant', 'benign',\n",
              "       'benign', 'malignant', 'malignant', 'benign'], dtype='<U9')"
            ]
          },
          "metadata": {},
          "execution_count": 31
        }
      ]
    },
    {
      "cell_type": "code",
      "source": [
        "# Define the mapping dictionary\n",
        "label_mapping = {'benign': 0, 'malignant': 1, 'normal': 2}\n",
        "\n",
        "# Map the labels to binary values\n",
        "y_labels_binary = [label_mapping[label] for label in y_labels]\n",
        "\n",
        "# Now, y_labels_binary contains the binary labels (0 for 'benign', 1 for 'malignant', and 2 for 'normal')\n"
      ],
      "metadata": {
        "id": "uhE_h1qhtKse"
      },
      "execution_count": 37,
      "outputs": []
    },
    {
      "cell_type": "code",
      "source": [
        "y_labels_binary"
      ],
      "metadata": {
        "colab": {
          "base_uri": "https://localhost:8080/"
        },
        "id": "Y9F7LoVMtMsU",
        "outputId": "8d4fb11a-ae49-4901-8620-247bda4a581f"
      },
      "execution_count": 39,
      "outputs": [
        {
          "output_type": "execute_result",
          "data": {
            "text/plain": [
              "[0,\n",
              " 0,\n",
              " 0,\n",
              " 0,\n",
              " 1,\n",
              " 0,\n",
              " 1,\n",
              " 1,\n",
              " 0,\n",
              " 1,\n",
              " 1,\n",
              " 1,\n",
              " 1,\n",
              " 0,\n",
              " 0,\n",
              " 0,\n",
              " 0,\n",
              " 0,\n",
              " 0,\n",
              " 0,\n",
              " 0,\n",
              " 0,\n",
              " 0,\n",
              " 0,\n",
              " 0,\n",
              " 1,\n",
              " 1,\n",
              " 0,\n",
              " 0,\n",
              " 0,\n",
              " 0,\n",
              " 1,\n",
              " 0,\n",
              " 1,\n",
              " 1,\n",
              " 0,\n",
              " 0,\n",
              " 0,\n",
              " 0,\n",
              " 0,\n",
              " 0,\n",
              " 0,\n",
              " 0,\n",
              " 0,\n",
              " 2,\n",
              " 1,\n",
              " 0,\n",
              " 0,\n",
              " 0,\n",
              " 1,\n",
              " 0,\n",
              " 0,\n",
              " 1,\n",
              " 0,\n",
              " 1,\n",
              " 0,\n",
              " 0,\n",
              " 1,\n",
              " 0,\n",
              " 1,\n",
              " 2,\n",
              " 0,\n",
              " 1,\n",
              " 0,\n",
              " 0,\n",
              " 1,\n",
              " 1,\n",
              " 0,\n",
              " 0,\n",
              " 0,\n",
              " 0,\n",
              " 1,\n",
              " 0,\n",
              " 0,\n",
              " 1,\n",
              " 1,\n",
              " 0,\n",
              " 0,\n",
              " 1,\n",
              " 0,\n",
              " 0,\n",
              " 1,\n",
              " 0,\n",
              " 0,\n",
              " 0,\n",
              " 1,\n",
              " 1,\n",
              " 1,\n",
              " 1,\n",
              " 1,\n",
              " 0,\n",
              " 0,\n",
              " 0,\n",
              " 1,\n",
              " 0,\n",
              " 0,\n",
              " 0,\n",
              " 0,\n",
              " 1,\n",
              " 0,\n",
              " 1,\n",
              " 1,\n",
              " 1,\n",
              " 0,\n",
              " 1,\n",
              " 1,\n",
              " 1,\n",
              " 0,\n",
              " 1,\n",
              " 0,\n",
              " 1,\n",
              " 1,\n",
              " 1,\n",
              " 1,\n",
              " 0,\n",
              " 0,\n",
              " 1,\n",
              " 0,\n",
              " 0,\n",
              " 0,\n",
              " 1,\n",
              " 0,\n",
              " 0,\n",
              " 0,\n",
              " 1,\n",
              " 0,\n",
              " 1,\n",
              " 1,\n",
              " 0,\n",
              " 1,\n",
              " 0,\n",
              " 1,\n",
              " 1,\n",
              " 0,\n",
              " 0,\n",
              " 0,\n",
              " 0,\n",
              " 0,\n",
              " 0,\n",
              " 0,\n",
              " 0,\n",
              " 0,\n",
              " 0,\n",
              " 1,\n",
              " 1,\n",
              " 0,\n",
              " 1,\n",
              " 1,\n",
              " 1,\n",
              " 1,\n",
              " 0,\n",
              " 0,\n",
              " 1,\n",
              " 1,\n",
              " 0,\n",
              " 0,\n",
              " 0,\n",
              " 1,\n",
              " 0,\n",
              " 1,\n",
              " 0,\n",
              " 0,\n",
              " 0,\n",
              " 1,\n",
              " 0,\n",
              " 0,\n",
              " 0,\n",
              " 0,\n",
              " 0,\n",
              " 1,\n",
              " 0,\n",
              " 1,\n",
              " 1,\n",
              " 1,\n",
              " 0,\n",
              " 1,\n",
              " 0,\n",
              " 0,\n",
              " 0,\n",
              " 0,\n",
              " 0,\n",
              " 0,\n",
              " 0,\n",
              " 0,\n",
              " 0,\n",
              " 0,\n",
              " 0,\n",
              " 0,\n",
              " 0,\n",
              " 1,\n",
              " 0,\n",
              " 0,\n",
              " 0,\n",
              " 0,\n",
              " 1,\n",
              " 0,\n",
              " 0,\n",
              " 1,\n",
              " 1,\n",
              " 0,\n",
              " 0,\n",
              " 0,\n",
              " 0,\n",
              " 0,\n",
              " 1,\n",
              " 1,\n",
              " 0,\n",
              " 0,\n",
              " 2,\n",
              " 0,\n",
              " 1,\n",
              " 1,\n",
              " 2,\n",
              " 0,\n",
              " 0,\n",
              " 0,\n",
              " 0,\n",
              " 1,\n",
              " 1,\n",
              " 0,\n",
              " 1,\n",
              " 0,\n",
              " 0,\n",
              " 0,\n",
              " 1,\n",
              " 1,\n",
              " 1,\n",
              " 1,\n",
              " 0,\n",
              " 1,\n",
              " 0,\n",
              " 0,\n",
              " 1,\n",
              " 1,\n",
              " 0,\n",
              " 0,\n",
              " 0,\n",
              " 1,\n",
              " 1,\n",
              " 0,\n",
              " 0,\n",
              " 0,\n",
              " 1,\n",
              " 1,\n",
              " 1,\n",
              " 0,\n",
              " 1,\n",
              " 1,\n",
              " 1,\n",
              " 1,\n",
              " 1,\n",
              " 0,\n",
              " 0,\n",
              " 1,\n",
              " 1,\n",
              " 0]"
            ]
          },
          "metadata": {},
          "execution_count": 39
        }
      ]
    },
    {
      "cell_type": "code",
      "source": [
        "from sklearn.feature_selection import SelectKBest, f_classif\n",
        "\n",
        "# Assuming X_features is your feature matrix and y_labels_binary is your binary labels\n",
        "\n",
        "# Select the top 100 features based on ANOVA F-value\n",
        "selector = SelectKBest(score_func=f_classif, k=100)\n",
        "X_selected = selector.fit_transform(X_features, y_labels_binary)\n",
        "\n",
        "# Get the indices of the selected features\n",
        "selected_indices = selector.get_support(indices=True)\n",
        "\n",
        "# Print the indices of the selected features\n",
        "print(\"Selected feature indices:\", selected_indices)\n"
      ],
      "metadata": {
        "colab": {
          "base_uri": "https://localhost:8080/"
        },
        "id": "5ePSj48JwbG1",
        "outputId": "ca1f7af1-98ca-44c4-8cfb-b432749b68b4"
      },
      "execution_count": 57,
      "outputs": [
        {
          "output_type": "stream",
          "name": "stdout",
          "text": [
            "Selected feature indices: [  245   257   311   329   422   471   769  3591  3623  3647  3655  3658\n",
            "  3736  3743  3764  3781  3829  3841  3862  3864  3866  3870  3872  3895\n",
            "  3896  3952  4002  4006  4030  4139  4147  4159  4167  4216  4276  4376\n",
            "  4378  4382  4431  4545  4671  4805  7173  7258  7278  7298  7320  7322\n",
            "  7356  7391  7409  7425  7438  7446  7546  7657  7685  7776  7860  8015\n",
            "  9983 10485 10658 10757 10773 10842 10915 10923 11244 12843 13355 13383\n",
            " 13569 13582 14778 14828 15290 15345 15626 18167 18172 18173 18188 18251\n",
            " 18462 18490 18582 18679 18684 18763 18861 19058 19301 19373 19423 21509\n",
            " 22166 22527 22548 22678]\n"
          ]
        },
        {
          "output_type": "stream",
          "name": "stderr",
          "text": [
            "/usr/local/lib/python3.10/dist-packages/sklearn/feature_selection/_univariate_selection.py:112: UserWarning: Features [    0     7    10 ... 25058 25063 25068] are constant.\n",
            "  warnings.warn(\"Features %s are constant.\" % constant_features_idx, UserWarning)\n",
            "/usr/local/lib/python3.10/dist-packages/sklearn/feature_selection/_univariate_selection.py:113: RuntimeWarning: invalid value encountered in divide\n",
            "  f = msb / msw\n"
          ]
        }
      ]
    },
    {
      "cell_type": "code",
      "source": [
        "print(\"Shape of X_selected:\", X_selected.shape)\n"
      ],
      "metadata": {
        "colab": {
          "base_uri": "https://localhost:8080/"
        },
        "id": "eJFfr0qczRTJ",
        "outputId": "93c0773a-cef3-4d63-dbba-2fa0623bf19b"
      },
      "execution_count": 59,
      "outputs": [
        {
          "output_type": "stream",
          "name": "stdout",
          "text": [
            "Shape of X_selected: (256, 100)\n"
          ]
        }
      ]
    },
    {
      "cell_type": "code",
      "source": [
        "import numpy as np\n",
        "\n",
        "X_selected_reshaped = np.expand_dims(X_selected, axis=1)\n",
        "print(\"Shape of X_selected_reshaped:\", X_selected_reshaped.shape)\n"
      ],
      "metadata": {
        "colab": {
          "base_uri": "https://localhost:8080/"
        },
        "id": "OC95TW_Xze_9",
        "outputId": "75c1e935-4fae-47fd-9b95-4cb06bb06749"
      },
      "execution_count": 60,
      "outputs": [
        {
          "output_type": "stream",
          "name": "stdout",
          "text": [
            "Shape of X_selected_reshaped: (256, 1, 100)\n"
          ]
        }
      ]
    },
    {
      "cell_type": "code",
      "source": [
        "import numpy as np\n",
        "\n",
        "# Convert y_labels_binary to a NumPy array\n",
        "y_labels_binary_np = np.array(y_labels_binary)\n",
        "\n",
        "# Print the shape of X_features\n",
        "print(\"Shape of X_features:\", X_features.shape)\n",
        "\n",
        "# Print the shape of y_labels_binary_np\n",
        "print(\"Shape of y_labels_binary:\", y_labels_binary_np.shape)\n"
      ],
      "metadata": {
        "colab": {
          "base_uri": "https://localhost:8080/"
        },
        "id": "Dgnyhprly1g1",
        "outputId": "5492523e-c412-4e98-ee11-696107e693ea"
      },
      "execution_count": 70,
      "outputs": [
        {
          "output_type": "stream",
          "name": "stdout",
          "text": [
            "Shape of X_features: (256, 25088)\n",
            "Shape of y_labels_binary: (256,)\n"
          ]
        }
      ]
    },
    {
      "cell_type": "code",
      "source": [
        "import numpy as np\n",
        "\n",
        "# Convert lists to NumPy arrays\n",
        "y_train = np.array(y_train)\n",
        "y_val = np.array(y_val)\n",
        "\n",
        "# Train the model\n",
        "history = model.fit(X_train, y_train, epochs=10, batch_size=32, validation_data=(X_val, y_val))\n",
        "\n",
        "# Evaluate the model\n",
        "loss, accuracy = model.evaluate(X_val, y_val)\n",
        "print('Validation Loss:', loss)\n",
        "print('Validation Accuracy:', accuracy)\n"
      ],
      "metadata": {
        "colab": {
          "base_uri": "https://localhost:8080/"
        },
        "id": "oPZk4q9D2Z1h",
        "outputId": "b7cd3d10-cc6f-456d-f5e9-c6c201bc67dc"
      },
      "execution_count": 74,
      "outputs": [
        {
          "output_type": "stream",
          "name": "stdout",
          "text": [
            "Epoch 1/10\n",
            "7/7 [==============================] - 3s 204ms/step - loss: 0.7278 - accuracy: 0.5882 - val_loss: 0.6089 - val_accuracy: 0.6731\n",
            "Epoch 2/10\n",
            "7/7 [==============================] - 1s 143ms/step - loss: 0.6117 - accuracy: 0.6127 - val_loss: 0.6069 - val_accuracy: 0.6731\n",
            "Epoch 3/10\n",
            "7/7 [==============================] - 1s 215ms/step - loss: 0.5448 - accuracy: 0.7206 - val_loss: 0.5999 - val_accuracy: 0.7500\n",
            "Epoch 4/10\n",
            "7/7 [==============================] - 1s 170ms/step - loss: 0.5091 - accuracy: 0.8333 - val_loss: 0.5905 - val_accuracy: 0.7692\n",
            "Epoch 5/10\n",
            "7/7 [==============================] - 1s 138ms/step - loss: 0.4820 - accuracy: 0.8529 - val_loss: 0.5760 - val_accuracy: 0.7308\n",
            "Epoch 6/10\n",
            "7/7 [==============================] - 1s 139ms/step - loss: 0.4482 - accuracy: 0.8382 - val_loss: 0.5816 - val_accuracy: 0.6731\n",
            "Epoch 7/10\n",
            "7/7 [==============================] - 1s 145ms/step - loss: 0.4011 - accuracy: 0.9020 - val_loss: 0.5907 - val_accuracy: 0.7308\n",
            "Epoch 8/10\n",
            "7/7 [==============================] - 1s 138ms/step - loss: 0.3965 - accuracy: 0.8922 - val_loss: 0.5629 - val_accuracy: 0.7308\n",
            "Epoch 9/10\n",
            "7/7 [==============================] - 1s 142ms/step - loss: 0.3587 - accuracy: 0.9069 - val_loss: 0.5566 - val_accuracy: 0.7692\n",
            "Epoch 10/10\n",
            "7/7 [==============================] - 1s 140ms/step - loss: 0.3352 - accuracy: 0.9069 - val_loss: 0.5485 - val_accuracy: 0.7308\n",
            "2/2 [==============================] - 0s 16ms/step - loss: 0.5485 - accuracy: 0.7308\n",
            "Validation Loss: 0.5485180616378784\n",
            "Validation Accuracy: 0.7307692170143127\n"
          ]
        }
      ]
    },
    {
      "cell_type": "code",
      "source": [
        "# Reshape the input data to 2D\n",
        "X_train_2d = X_train.reshape(X_train.shape[0], -1)\n",
        "X_val_2d = X_val.reshape(X_val.shape[0], -1)\n",
        "\n",
        "# Initialize SVM classifier\n",
        "svm_model = SVC(kernel='linear', random_state=42)\n",
        "\n",
        "# Train the SVM model\n",
        "svm_model.fit(X_train_2d, y_train)\n",
        "\n",
        "# Make predictions on the validation set\n",
        "y_pred = svm_model.predict(X_val_2d)\n",
        "\n",
        "# Calculate accuracy\n",
        "accuracy = accuracy_score(y_val, y_pred)\n",
        "print(\"Accuracy:\", accuracy)\n",
        "\n",
        "# Print classification report\n",
        "print(\"Classification Report:\")\n",
        "print(classification_report(y_val, y_pred))\n"
      ],
      "metadata": {
        "colab": {
          "base_uri": "https://localhost:8080/"
        },
        "id": "BEpXsAPa3GEz",
        "outputId": "88279374-8233-4b18-cda4-665960a17b04"
      },
      "execution_count": 76,
      "outputs": [
        {
          "output_type": "stream",
          "name": "stdout",
          "text": [
            "Accuracy: 0.7692307692307693\n",
            "Classification Report:\n",
            "              precision    recall  f1-score   support\n",
            "\n",
            "           0       0.79      0.89      0.84        35\n",
            "           1       0.69      0.56      0.62        16\n",
            "           2       0.00      0.00      0.00         1\n",
            "\n",
            "    accuracy                           0.77        52\n",
            "   macro avg       0.50      0.48      0.49        52\n",
            "weighted avg       0.75      0.77      0.75        52\n",
            "\n"
          ]
        },
        {
          "output_type": "stream",
          "name": "stderr",
          "text": [
            "/usr/local/lib/python3.10/dist-packages/sklearn/metrics/_classification.py:1344: UndefinedMetricWarning: Precision and F-score are ill-defined and being set to 0.0 in labels with no predicted samples. Use `zero_division` parameter to control this behavior.\n",
            "  _warn_prf(average, modifier, msg_start, len(result))\n",
            "/usr/local/lib/python3.10/dist-packages/sklearn/metrics/_classification.py:1344: UndefinedMetricWarning: Precision and F-score are ill-defined and being set to 0.0 in labels with no predicted samples. Use `zero_division` parameter to control this behavior.\n",
            "  _warn_prf(average, modifier, msg_start, len(result))\n",
            "/usr/local/lib/python3.10/dist-packages/sklearn/metrics/_classification.py:1344: UndefinedMetricWarning: Precision and F-score are ill-defined and being set to 0.0 in labels with no predicted samples. Use `zero_division` parameter to control this behavior.\n",
            "  _warn_prf(average, modifier, msg_start, len(result))\n"
          ]
        }
      ]
    },
    {
      "cell_type": "code",
      "source": [
        "import matplotlib.pyplot as plt\n",
        "\n",
        "# Plot training & validation loss values\n",
        "plt.plot(history.history['loss'])\n",
        "plt.plot(history.history['val_loss'])\n",
        "plt.title('Model convergence')\n",
        "plt.ylabel('Loss')\n",
        "plt.xlabel('Epoch')\n",
        "plt.legend(['Train', 'Validation'], loc='upper left')\n",
        "plt.show()\n"
      ],
      "metadata": {
        "colab": {
          "base_uri": "https://localhost:8080/",
          "height": 472
        },
        "id": "xmwtDAnR3agm",
        "outputId": "f1c5184a-248f-4860-9940-6a37eba9258c"
      },
      "execution_count": 77,
      "outputs": [
        {
          "output_type": "display_data",
          "data": {
            "text/plain": [
              "<Figure size 640x480 with 1 Axes>"
            ],
            "image/png": "[encoded data removed]"
          },
          "metadata": {}
        }
      ]
    },
    {
      "cell_type": "code",
      "source": [
        "# Reshape the input data to have a dimensionality of 2\n",
        "X_train_reshaped = X_train.reshape(X_train.shape[0], -1)\n",
        "X_val_reshaped = X_val.reshape(X_val.shape[0], -1)\n",
        "\n",
        "# Create SVM model with cubic kernel\n",
        "svm_model = SVC(kernel='poly', degree=3)\n",
        "\n",
        "# Train the SVM model\n",
        "svm_model.fit(X_train_reshaped, y_train)\n",
        "\n",
        "# Make predictions on the validation set\n",
        "y_pred_svm = svm_model.predict(X_val_reshaped)\n",
        "\n",
        "# Calculate accuracy\n",
        "accuracy_svm = accuracy_score(y_val, y_pred_svm)\n",
        "print(\"Accuracy of SVM model with cubic kernel:\", accuracy_svm)\n"
      ],
      "metadata": {
        "colab": {
          "base_uri": "https://localhost:8080/"
        },
        "id": "NXllJBKx3x7g",
        "outputId": "6f6f8961-6f83-4c44-e765-cc93432d7250"
      },
      "execution_count": 79,
      "outputs": [
        {
          "output_type": "stream",
          "name": "stdout",
          "text": [
            "Accuracy of SVM model with cubic kernel: 0.6730769230769231\n"
          ]
        }
      ]
    },
    {
      "cell_type": "code",
      "source": [
        "# Train the LSTM model\n",
        "history_lstm = model.fit(X_train, y_train, epochs=10, batch_size=32, validation_data=(X_val, y_val))\n"
      ],
      "metadata": {
        "colab": {
          "base_uri": "https://localhost:8080/"
        },
        "id": "2bLqjDTJ3706",
        "outputId": "ad6dbd76-fba3-464c-ba55-464367d2acd0"
      },
      "execution_count": 81,
      "outputs": [
        {
          "output_type": "stream",
          "name": "stdout",
          "text": [
            "Epoch 1/10\n",
            "7/7 [==============================] - 1s 158ms/step - loss: 0.3141 - accuracy: 0.8971 - val_loss: 0.5507 - val_accuracy: 0.7115\n",
            "Epoch 2/10\n",
            "7/7 [==============================] - 1s 144ms/step - loss: 0.2969 - accuracy: 0.9020 - val_loss: 0.5319 - val_accuracy: 0.7308\n",
            "Epoch 3/10\n",
            "7/7 [==============================] - 1s 142ms/step - loss: 0.2715 - accuracy: 0.9118 - val_loss: 0.5526 - val_accuracy: 0.7115\n",
            "Epoch 4/10\n",
            "7/7 [==============================] - 1s 144ms/step - loss: 0.2562 - accuracy: 0.9167 - val_loss: 0.5604 - val_accuracy: 0.7500\n",
            "Epoch 5/10\n",
            "7/7 [==============================] - 1s 165ms/step - loss: 0.2477 - accuracy: 0.9118 - val_loss: 0.5449 - val_accuracy: 0.7308\n",
            "Epoch 6/10\n",
            "7/7 [==============================] - 1s 202ms/step - loss: 0.2360 - accuracy: 0.9216 - val_loss: 0.5509 - val_accuracy: 0.7115\n",
            "Epoch 7/10\n",
            "7/7 [==============================] - 2s 241ms/step - loss: 0.2257 - accuracy: 0.9167 - val_loss: 0.5639 - val_accuracy: 0.6923\n",
            "Epoch 8/10\n",
            "7/7 [==============================] - 3s 393ms/step - loss: 0.2109 - accuracy: 0.9216 - val_loss: 0.5548 - val_accuracy: 0.7308\n",
            "Epoch 9/10\n",
            "7/7 [==============================] - 2s 365ms/step - loss: 0.2002 - accuracy: 0.9216 - val_loss: 0.5494 - val_accuracy: 0.6731\n",
            "Epoch 10/10\n",
            "7/7 [==============================] - 2s 270ms/step - loss: 0.1878 - accuracy: 0.9167 - val_loss: 0.5579 - val_accuracy: 0.7115\n"
          ]
        }
      ]
    },
    {
      "cell_type": "code",
      "source": [
        "from sklearn.svm import SVC\n",
        "import numpy as np\n",
        "import matplotlib.pyplot as plt\n",
        "from sklearn.metrics import accuracy_score\n",
        "\n",
        "# Define the number of epochs\n",
        "epochs = 10\n",
        "\n",
        "# Create an SVM model with cubic kernel\n",
        "svm_model_cubic = SVC(kernel='poly', degree=3, random_state=42)\n",
        "\n",
        "# Train the SVM model with cubic kernel\n",
        "history_svm_cubic = []\n",
        "for epoch in range(epochs):\n",
        "    svm_model_cubic.fit(X_train_flat, y_train)\n",
        "    # Calculate training loss (SVM doesn't directly provide loss, so we use accuracy as a proxy)\n",
        "    y_pred_train = svm_model_cubic.predict(X_train_flat)\n",
        "    train_loss = 1.0 - accuracy_score(y_train, y_pred_train)\n",
        "    history_svm_cubic.append(train_loss)\n",
        "\n",
        "# Predict on the validation set\n",
        "y_pred_val_svm_cubic = svm_model_cubic.predict(X_val_flat)\n",
        "\n",
        "# Calculate accuracy on validation set\n",
        "accuracy_val_svm_cubic = accuracy_score(y_val, y_pred_val_svm_cubic)\n",
        "\n",
        "print(\"Validation Accuracy (SVM - Cubic Kernel):\", accuracy_val_svm_cubic)\n",
        "\n",
        "# Plot convergence history\n",
        "plt.plot(history_svm_cubic, label='SVM - Cubic Kernel Loss')\n",
        "plt.xlabel('Epochs')\n",
        "plt.ylabel('Loss')\n",
        "plt.title('SVM - Cubic Kernel Training Loss')\n",
        "plt.legend()\n",
        "plt.show()\n"
      ],
      "metadata": {
        "colab": {
          "base_uri": "https://localhost:8080/",
          "height": 489
        },
        "id": "9ThT516D4nBK",
        "outputId": "8a7da2bc-f8cb-4621-db88-7973c3dc4aed"
      },
      "execution_count": 86,
      "outputs": [
        {
          "output_type": "stream",
          "name": "stdout",
          "text": [
            "Validation Accuracy (SVM - Cubic Kernel): 0.6730769230769231\n"
          ]
        },
        {
          "output_type": "display_data",
          "data": {
            "text/plain": [
              "<Figure size 640x480 with 1 Axes>"
            ],
            "image/png": "[encoded data removed]"
          },
          "metadata": {}
        }
      ]
    },
    {
      "cell_type": "code",
      "source": [
        "import matplotlib.pyplot as plt\n",
        "\n",
        "# Plot convergence history\n",
        "plt.plot(history_lstm.history['loss'], label='LSTM Loss')\n",
        "plt.plot(history_svm_cubic, label='SVM - Cubic Kernel Loss')\n",
        "plt.xlabel('Epochs')\n",
        "plt.ylabel('Loss')\n",
        "plt.title('Comparison of Convergence: LSTM vs SVM - Cubic Kernel')\n",
        "plt.legend()\n",
        "plt.show()\n"
      ],
      "metadata": {
        "colab": {
          "base_uri": "https://localhost:8080/",
          "height": 472
        },
        "id": "dVEKwlHM5l1q",
        "outputId": "89048ae4-9fe3-4604-8086-1c1a981275c5"
      },
      "execution_count": 87,
      "outputs": [
        {
          "output_type": "display_data",
          "data": {
            "text/plain": [
              "<Figure size 640x480 with 1 Axes>"
            ],
            "image/png": "[encoded data removed]"
          },
          "metadata": {}
        }
      ]
    }
  ]
}